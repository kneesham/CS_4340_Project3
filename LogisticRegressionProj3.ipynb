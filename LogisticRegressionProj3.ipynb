{
 "cells": [
  {
   "cell_type": "code",
   "execution_count": 1,
   "metadata": {},
   "outputs": [],
   "source": [
    "import numpy as np\n",
    "import pandas as pd\n",
    "import matplotlib.pyplot as plt\n",
    "from scipy.interpolate import make_interp_spline, BSpline\n",
    "from math import exp"
   ]
  },
  {
   "cell_type": "code",
   "execution_count": 2,
   "metadata": {},
   "outputs": [],
   "source": [
    "###################################### PART A ###############################\n",
    "\n",
    "## (i): Intial weights listed below\n",
    "initial_weights = [0.5, 0.2]\n",
    "    \n",
    "# (ii): Learning rate constant\n",
    "learning_rate = 0.02\n",
    "    \n",
    "# (iii): Number of updates to the weight vector\n",
    "num_updates = 1000\n",
    "    \n",
    "# (iv): Final solution vector\n",
    "final_df = None\n",
    "\n",
    "# (v): The quality of our solution\n",
    "solution_quality = 0"
   ]
  },
  {
   "cell_type": "code",
   "execution_count": 3,
   "metadata": {},
   "outputs": [],
   "source": [
    "# Helper function to normalize data\n",
    "def normalize(X):\n",
    "    return X - X.mean()\n",
    "\n",
    "# Method to make predictions (sigmoid function, gets applied to every element of X)\n",
    "def predict(X, b0, b1):\n",
    "    return np.array([ 1 / (1 + exp(-1*b0 + -1*b1*x)) for x in X])\n",
    "\n",
    "# Used to train our model\n",
    "def logistic_regression(X, Y):\n",
    "\n",
    "    X = normalize(X)\n",
    "\n",
    "    b0 = initial_weights[0]\n",
    "    b1 = initial_weights[1]\n",
    "    L  = learning_rate\n",
    "    iters = num_updates\n",
    "\n",
    "    for _ in range(iters):\n",
    "        y_pred = predict(X, b0, b1)\n",
    "        D_b0 = -2 * sum((Y - y_pred) * y_pred * (1 - y_pred))  # Derivative of loss wrt b0\n",
    "        D_b1 = -2 * sum(X * (Y - y_pred) * y_pred * (1 - y_pred))  # Derivative of loss wrt b1\n",
    "        # Update b0 and b1\n",
    "        b0 = b0 - L * D_b0\n",
    "        b1 = b1 - L * D_b1\n",
    "    \n",
    "    return b0, b1"
   ]
  },
  {
   "cell_type": "code",
   "execution_count": 9,
   "metadata": {},
   "outputs": [],
   "source": [
    "# Data given to us in the project.\n",
    "tr_set = {'X': [1, 2, 3, 4, 5, 6, 7, 8],\n",
    "          'Y': [0, 1, 0, 1, 0, 1, 1, 1]}\n",
    "\n",
    "df = pd.DataFrame(tr_set, columns = ['X', 'Y'])\n",
    "\n",
    "# Training the model\n",
    "b0, b1 = logistic_regression(df[\"X\"], df[\"Y\"])\n",
    "\n",
    "# Making predictions\n",
    "X_test_norm = normalize(df[\"X\"])\n",
    "y_pred = predict(X_test_norm, b0, b1)\n",
    "\n",
    "df = pd.DataFrame()\n",
    "\n",
    "# Getting the final soulution vector\n",
    "y_pred = [1 if p >= 0.5 else 0 for p in y_pred]\n",
    "\n",
    "trained_set = {'X': [1, 2, 3, 4, 5, 6, 7, 8],\n",
    "               'y_pred': y_pred}\n",
    "\n",
    "final_df = pd.DataFrame(trained_set, columns = ['X', 'y_pred'])\n",
    "\n",
    "# Getting solution quality\n",
    "solution_quality = 0\n",
    "for i in range(len(y_pred)):\n",
    "    if y_pred[i] == tr_set[\"Y\"][i]:\n",
    "        solution_quality += 1\n",
    "        \n",
    "solution_quality = solution_quality/ len(y_pred)"
   ]
  },
  {
   "cell_type": "code",
   "execution_count": 13,
   "metadata": {},
   "outputs": [
    {
     "data": {
      "image/png": "[encoded data removed]",
      "text/plain": [
       "<Figure size 432x288 with 1 Axes>"
      ]
     },
     "metadata": {
      "needs_background": "light"
     },
     "output_type": "display_data"
    },
    {
     "name": "stdout",
     "output_type": "stream",
     "text": [
      "The initial weights were:  [0.5, 0.2]\n",
      "The learning rate used was:  0.02\n",
      "The number of updates to the weight vector was:  1000\n",
      "Final predicted solutions:\n",
      "    X  y_pred\n",
      "0  1       0\n",
      "1  2       0\n",
      "2  3       0\n",
      "3  4       1\n",
      "4  5       1\n",
      "5  6       1\n",
      "6  7       1\n",
      "7  8       1\n",
      "The solution quality of this answer is:  0.75\n",
      "By solution quality we are talking about the number of 'Missclassified' points\n",
      "basically if the predicted value does not match the actual 'y' value it is 'Missclassified.' \n"
     ]
    }
   ],
   "source": [
    "###################################### SUMMARY PART A ###############################\n",
    "\n",
    "plt.scatter(tr_set[\"X\"], tr_set[\"Y\"])                   # Blue dots\n",
    "plt.scatter(tr_set[\"X\"], y_pred, c=\"red\")               # Red dots are trained.\n",
    "\n",
    "plt.title(label=\"Predicted (Red) VS. Actual (blue)\")\n",
    "plt.show()\n",
    "\n",
    "## (i):\n",
    "print(\"The initial weights were: \", initial_weights)\n",
    "    \n",
    "# (ii):\n",
    "print(\"The learning rate used was: \", learning_rate)\n",
    "    \n",
    "# (iii):\n",
    "print(\"The number of updates to the weight vector was: \", num_updates)\n",
    "    \n",
    "# (iv):\n",
    "print(\"Final predicted solutions:\\n\", final_df)\n",
    "\n",
    "# (v):\n",
    "print(\"The solution quality of this answer is: \", solution_quality)\n",
    "print(\"By solution quality we are talking about the number of 'Missclassified' points\\nbasically if the predicted value does not match the actual 'y' value it is 'Missclassified.' \")\n"
   ]
  },
  {
   "cell_type": "code",
   "execution_count": null,
   "metadata": {},
   "outputs": [],
   "source": []
  }
 ],
 "metadata": {
  "kernelspec": {
   "display_name": "Python 3",
   "language": "python",
   "name": "python3"
  },
  "language_info": {
   "codemirror_mode": {
    "name": "ipython",
    "version": 3
   },
   "file_extension": ".py",
   "mimetype": "text/x-python",
   "name": "python",
   "nbconvert_exporter": "python",
   "pygments_lexer": "ipython3",
   "version": "3.8.3"
  }
 },
 "nbformat": 4,
 "nbformat_minor": 4
}
